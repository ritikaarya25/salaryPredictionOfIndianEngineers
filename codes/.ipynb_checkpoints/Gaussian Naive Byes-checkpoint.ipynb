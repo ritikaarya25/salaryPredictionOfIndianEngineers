{
 "cells": [
  {
   "cell_type": "code",
   "execution_count": 1,
   "metadata": {},
   "outputs": [
    {
     "ename": "KeyError",
     "evalue": "\"['TestOrTrain'] not found in axis\"",
     "output_type": "error",
     "traceback": [
      "\u001b[1;31m---------------------------------------------------------------------------\u001b[0m",
      "\u001b[1;31mKeyError\u001b[0m                                  Traceback (most recent call last)",
      "\u001b[1;32m<ipython-input-1-b88e10676381>\u001b[0m in \u001b[0;36m<module>\u001b[1;34m\u001b[0m\n\u001b[0;32m     15\u001b[0m \u001b[0mtrain\u001b[0m \u001b[1;33m=\u001b[0m \u001b[0mpd\u001b[0m\u001b[1;33m.\u001b[0m\u001b[0mread_excel\u001b[0m\u001b[1;33m(\u001b[0m\u001b[1;34m'salary_dat.xlsx'\u001b[0m\u001b[1;33m)\u001b[0m\u001b[1;33m\u001b[0m\u001b[1;33m\u001b[0m\u001b[0m\n\u001b[0;32m     16\u001b[0m \u001b[1;33m\u001b[0m\u001b[0m\n\u001b[1;32m---> 17\u001b[1;33m \u001b[0mtrain\u001b[0m \u001b[1;33m=\u001b[0m \u001b[0mtrain\u001b[0m\u001b[1;33m.\u001b[0m\u001b[0mdrop\u001b[0m\u001b[1;33m(\u001b[0m\u001b[1;33m[\u001b[0m\u001b[1;34m'DOL'\u001b[0m\u001b[1;33m,\u001b[0m \u001b[1;34m'DOJ'\u001b[0m\u001b[1;33m,\u001b[0m \u001b[1;34m'Designation'\u001b[0m\u001b[1;33m,\u001b[0m \u001b[1;34m'TestOrTrain'\u001b[0m\u001b[1;33m,\u001b[0m \u001b[1;34m'ID'\u001b[0m\u001b[1;33m,\u001b[0m\u001b[1;34m'JobCity'\u001b[0m\u001b[1;33m]\u001b[0m\u001b[1;33m,\u001b[0m \u001b[0maxis\u001b[0m \u001b[1;33m=\u001b[0m\u001b[1;36m1\u001b[0m\u001b[1;33m)\u001b[0m\u001b[1;33m\u001b[0m\u001b[1;33m\u001b[0m\u001b[0m\n\u001b[0m",
      "\u001b[1;32mC:\\ProgramData\\Anaconda3\\lib\\site-packages\\pandas\\core\\frame.py\u001b[0m in \u001b[0;36mdrop\u001b[1;34m(self, labels, axis, index, columns, level, inplace, errors)\u001b[0m\n\u001b[0;32m   4100\u001b[0m             \u001b[0mlevel\u001b[0m\u001b[1;33m=\u001b[0m\u001b[0mlevel\u001b[0m\u001b[1;33m,\u001b[0m\u001b[1;33m\u001b[0m\u001b[1;33m\u001b[0m\u001b[0m\n\u001b[0;32m   4101\u001b[0m             \u001b[0minplace\u001b[0m\u001b[1;33m=\u001b[0m\u001b[0minplace\u001b[0m\u001b[1;33m,\u001b[0m\u001b[1;33m\u001b[0m\u001b[1;33m\u001b[0m\u001b[0m\n\u001b[1;32m-> 4102\u001b[1;33m             \u001b[0merrors\u001b[0m\u001b[1;33m=\u001b[0m\u001b[0merrors\u001b[0m\u001b[1;33m,\u001b[0m\u001b[1;33m\u001b[0m\u001b[1;33m\u001b[0m\u001b[0m\n\u001b[0m\u001b[0;32m   4103\u001b[0m         )\n\u001b[0;32m   4104\u001b[0m \u001b[1;33m\u001b[0m\u001b[0m\n",
      "\u001b[1;32mC:\\ProgramData\\Anaconda3\\lib\\site-packages\\pandas\\core\\generic.py\u001b[0m in \u001b[0;36mdrop\u001b[1;34m(self, labels, axis, index, columns, level, inplace, errors)\u001b[0m\n\u001b[0;32m   3912\u001b[0m         \u001b[1;32mfor\u001b[0m \u001b[0maxis\u001b[0m\u001b[1;33m,\u001b[0m \u001b[0mlabels\u001b[0m \u001b[1;32min\u001b[0m \u001b[0maxes\u001b[0m\u001b[1;33m.\u001b[0m\u001b[0mitems\u001b[0m\u001b[1;33m(\u001b[0m\u001b[1;33m)\u001b[0m\u001b[1;33m:\u001b[0m\u001b[1;33m\u001b[0m\u001b[1;33m\u001b[0m\u001b[0m\n\u001b[0;32m   3913\u001b[0m             \u001b[1;32mif\u001b[0m \u001b[0mlabels\u001b[0m \u001b[1;32mis\u001b[0m \u001b[1;32mnot\u001b[0m \u001b[1;32mNone\u001b[0m\u001b[1;33m:\u001b[0m\u001b[1;33m\u001b[0m\u001b[1;33m\u001b[0m\u001b[0m\n\u001b[1;32m-> 3914\u001b[1;33m                 \u001b[0mobj\u001b[0m \u001b[1;33m=\u001b[0m \u001b[0mobj\u001b[0m\u001b[1;33m.\u001b[0m\u001b[0m_drop_axis\u001b[0m\u001b[1;33m(\u001b[0m\u001b[0mlabels\u001b[0m\u001b[1;33m,\u001b[0m \u001b[0maxis\u001b[0m\u001b[1;33m,\u001b[0m \u001b[0mlevel\u001b[0m\u001b[1;33m=\u001b[0m\u001b[0mlevel\u001b[0m\u001b[1;33m,\u001b[0m \u001b[0merrors\u001b[0m\u001b[1;33m=\u001b[0m\u001b[0merrors\u001b[0m\u001b[1;33m)\u001b[0m\u001b[1;33m\u001b[0m\u001b[1;33m\u001b[0m\u001b[0m\n\u001b[0m\u001b[0;32m   3915\u001b[0m \u001b[1;33m\u001b[0m\u001b[0m\n\u001b[0;32m   3916\u001b[0m         \u001b[1;32mif\u001b[0m \u001b[0minplace\u001b[0m\u001b[1;33m:\u001b[0m\u001b[1;33m\u001b[0m\u001b[1;33m\u001b[0m\u001b[0m\n",
      "\u001b[1;32mC:\\ProgramData\\Anaconda3\\lib\\site-packages\\pandas\\core\\generic.py\u001b[0m in \u001b[0;36m_drop_axis\u001b[1;34m(self, labels, axis, level, errors)\u001b[0m\n\u001b[0;32m   3944\u001b[0m                 \u001b[0mnew_axis\u001b[0m \u001b[1;33m=\u001b[0m \u001b[0maxis\u001b[0m\u001b[1;33m.\u001b[0m\u001b[0mdrop\u001b[0m\u001b[1;33m(\u001b[0m\u001b[0mlabels\u001b[0m\u001b[1;33m,\u001b[0m \u001b[0mlevel\u001b[0m\u001b[1;33m=\u001b[0m\u001b[0mlevel\u001b[0m\u001b[1;33m,\u001b[0m \u001b[0merrors\u001b[0m\u001b[1;33m=\u001b[0m\u001b[0merrors\u001b[0m\u001b[1;33m)\u001b[0m\u001b[1;33m\u001b[0m\u001b[1;33m\u001b[0m\u001b[0m\n\u001b[0;32m   3945\u001b[0m             \u001b[1;32melse\u001b[0m\u001b[1;33m:\u001b[0m\u001b[1;33m\u001b[0m\u001b[1;33m\u001b[0m\u001b[0m\n\u001b[1;32m-> 3946\u001b[1;33m                 \u001b[0mnew_axis\u001b[0m \u001b[1;33m=\u001b[0m \u001b[0maxis\u001b[0m\u001b[1;33m.\u001b[0m\u001b[0mdrop\u001b[0m\u001b[1;33m(\u001b[0m\u001b[0mlabels\u001b[0m\u001b[1;33m,\u001b[0m \u001b[0merrors\u001b[0m\u001b[1;33m=\u001b[0m\u001b[0merrors\u001b[0m\u001b[1;33m)\u001b[0m\u001b[1;33m\u001b[0m\u001b[1;33m\u001b[0m\u001b[0m\n\u001b[0m\u001b[0;32m   3947\u001b[0m             \u001b[0mresult\u001b[0m \u001b[1;33m=\u001b[0m \u001b[0mself\u001b[0m\u001b[1;33m.\u001b[0m\u001b[0mreindex\u001b[0m\u001b[1;33m(\u001b[0m\u001b[1;33m**\u001b[0m\u001b[1;33m{\u001b[0m\u001b[0maxis_name\u001b[0m\u001b[1;33m:\u001b[0m \u001b[0mnew_axis\u001b[0m\u001b[1;33m}\u001b[0m\u001b[1;33m)\u001b[0m\u001b[1;33m\u001b[0m\u001b[1;33m\u001b[0m\u001b[0m\n\u001b[0;32m   3948\u001b[0m \u001b[1;33m\u001b[0m\u001b[0m\n",
      "\u001b[1;32mC:\\ProgramData\\Anaconda3\\lib\\site-packages\\pandas\\core\\indexes\\base.py\u001b[0m in \u001b[0;36mdrop\u001b[1;34m(self, labels, errors)\u001b[0m\n\u001b[0;32m   5338\u001b[0m         \u001b[1;32mif\u001b[0m \u001b[0mmask\u001b[0m\u001b[1;33m.\u001b[0m\u001b[0many\u001b[0m\u001b[1;33m(\u001b[0m\u001b[1;33m)\u001b[0m\u001b[1;33m:\u001b[0m\u001b[1;33m\u001b[0m\u001b[1;33m\u001b[0m\u001b[0m\n\u001b[0;32m   5339\u001b[0m             \u001b[1;32mif\u001b[0m \u001b[0merrors\u001b[0m \u001b[1;33m!=\u001b[0m \u001b[1;34m\"ignore\"\u001b[0m\u001b[1;33m:\u001b[0m\u001b[1;33m\u001b[0m\u001b[1;33m\u001b[0m\u001b[0m\n\u001b[1;32m-> 5340\u001b[1;33m                 \u001b[1;32mraise\u001b[0m \u001b[0mKeyError\u001b[0m\u001b[1;33m(\u001b[0m\u001b[1;34m\"{} not found in axis\"\u001b[0m\u001b[1;33m.\u001b[0m\u001b[0mformat\u001b[0m\u001b[1;33m(\u001b[0m\u001b[0mlabels\u001b[0m\u001b[1;33m[\u001b[0m\u001b[0mmask\u001b[0m\u001b[1;33m]\u001b[0m\u001b[1;33m)\u001b[0m\u001b[1;33m)\u001b[0m\u001b[1;33m\u001b[0m\u001b[1;33m\u001b[0m\u001b[0m\n\u001b[0m\u001b[0;32m   5341\u001b[0m             \u001b[0mindexer\u001b[0m \u001b[1;33m=\u001b[0m \u001b[0mindexer\u001b[0m\u001b[1;33m[\u001b[0m\u001b[1;33m~\u001b[0m\u001b[0mmask\u001b[0m\u001b[1;33m]\u001b[0m\u001b[1;33m\u001b[0m\u001b[1;33m\u001b[0m\u001b[0m\n\u001b[0;32m   5342\u001b[0m         \u001b[1;32mreturn\u001b[0m \u001b[0mself\u001b[0m\u001b[1;33m.\u001b[0m\u001b[0mdelete\u001b[0m\u001b[1;33m(\u001b[0m\u001b[0mindexer\u001b[0m\u001b[1;33m)\u001b[0m\u001b[1;33m\u001b[0m\u001b[1;33m\u001b[0m\u001b[0m\n",
      "\u001b[1;31mKeyError\u001b[0m: \"['TestOrTrain'] not found in axis\""
     ]
    }
   ],
   "source": [
    "import pandas as pd\n",
    "import math\n",
    "from sklearn.metrics import mean_absolute_error, mean_squared_error\n",
    "from sklearn.linear_model import LinearRegression\n",
    "from sklearn import preprocessing\n",
    "import numpy as np\n",
    "from sklearn.preprocessing import MinMaxScaler\n",
    "import numpy as np\n",
    "import random\n",
    "from sklearn import linear_model\n",
    "import datetime\n",
    "import statsmodels.api as sm\n",
    "from sklearn.naive_bayes import GaussianNB\n",
    "\n",
    "train = pd.read_excel('salary_dat.xlsx')\n",
    "\n",
    "train = train.drop(['DOL', 'DOJ', 'Designation', 'TestOrTrain', 'ID','JobCity'], axis =1) "
   ]
  },
  {
   "cell_type": "code",
   "execution_count": 10,
   "metadata": {
    "collapsed": true
   },
   "outputs": [],
   "source": [
    "def yearReturn(x):\n",
    "    return x.year\n",
    "\n",
    "def mean1(col):\n",
    "    sm = 0\n",
    "    count = 0;\n",
    "\n",
    "    for x in col:\n",
    "\tif x != -1:\n",
    "\t\tsm = sm + x;\n",
    "\t\tcount = count + 1;\n",
    "\n",
    "    mn = sm / count\n",
    "    return mn;\n",
    "\n",
    "\n",
    "def transformPresent(col, val):\n",
    "    new = []\n",
    "\n",
    "    for x in col:\n",
    "\tif x == 'present':\n",
    "\t\tnew.append(val);\t\n",
    "\telse:\n",
    "\t\tnew.append(x);\t\n",
    "\t\n",
    "    return new;\n",
    "\n",
    "\n",
    "def transform(col, val):\n",
    "    new = []\n",
    "\n",
    "    for x in col:\n",
    "\tif x == -1:\n",
    "\t\tnew.append(val);\t\n",
    "\telse:\n",
    "\t\tnew.append(x);\t\n",
    "\t\n",
    "    return new;"
   ]
  },
  {
   "cell_type": "code",
   "execution_count": 11,
   "metadata": {
    "collapsed": true
   },
   "outputs": [],
   "source": [
    "val = mean1(train.ElectronicsAndSemicon)\n",
    "train.ElectronicsAndSemicon = transform(train.ElectronicsAndSemicon, val);\n",
    "\n",
    "val = mean1(train.ComputerProgramming)\t    \n",
    "train.ComputerProgramming = transform(train.ComputerProgramming, val);\n",
    "\n",
    "val = mean1(train.ComputerScience)\t    \n",
    "train.ComputerScience = transform(train.ComputerScience, val);\n",
    "\n",
    "val = mean1(train.MechanicalEngg)\t    \n",
    "train.MechanicalEngg = transform(train.MechanicalEngg, val);\n",
    "\n",
    "val = mean1(train.ElectricalEngg)\n",
    "train.ElectricalEngg = transform(train.ElectricalEngg, val);\n",
    "\n",
    "val = mean1(train.TelecomEngg)\n",
    "train.TelecomEngg = transform(train.TelecomEngg, val);\n",
    "\n",
    "val = mean1(train.CivilEngg)\n",
    "train.CivilEngg = transform(train.CivilEngg, val);\n",
    "\n",
    "val = mean1(train.Domain)    \n",
    "train.Domain = transform(train.Domain, val);\n",
    "\n",
    "train['DOB'] = train.DOB.apply(yearReturn)"
   ]
  },
  {
   "cell_type": "code",
   "execution_count": 12,
   "metadata": {},
   "outputs": [
    {
     "data": {
      "text/plain": [
       "(3998, 33)"
      ]
     },
     "execution_count": 12,
     "metadata": {},
     "output_type": "execute_result"
    }
   ],
   "source": [
    "text_columns = []\n",
    "for f in train.columns:\n",
    "    if train[f].dtype=='object':\n",
    "        text_columns.append(f)            \n",
    "        lbl = preprocessing.LabelEncoder()\n",
    "        lbl.fit(list(train[f].values))\n",
    "        train[f] = lbl.transform(list(train[f].values))\n",
    "\n",
    "train.shape"
   ]
  },
  {
   "cell_type": "code",
   "execution_count": 13,
   "metadata": {},
   "outputs": [
    {
     "data": {
      "text/html": [
       "<div>\n",
       "<table border=\"1\" class=\"dataframe\">\n",
       "  <thead>\n",
       "    <tr style=\"text-align: right;\">\n",
       "      <th></th>\n",
       "      <th>Salary</th>\n",
       "      <th>Gender</th>\n",
       "      <th>DOB</th>\n",
       "      <th>10percentage</th>\n",
       "      <th>10board</th>\n",
       "      <th>12graduation</th>\n",
       "      <th>12percentage</th>\n",
       "      <th>12board</th>\n",
       "      <th>CollegeID</th>\n",
       "      <th>CollegeTier</th>\n",
       "      <th>...</th>\n",
       "      <th>ComputerScience</th>\n",
       "      <th>MechanicalEngg</th>\n",
       "      <th>ElectricalEngg</th>\n",
       "      <th>TelecomEngg</th>\n",
       "      <th>CivilEngg</th>\n",
       "      <th>conscientiousness</th>\n",
       "      <th>agreeableness</th>\n",
       "      <th>extraversion</th>\n",
       "      <th>nueroticism</th>\n",
       "      <th>openess_to_experience</th>\n",
       "    </tr>\n",
       "  </thead>\n",
       "  <tbody>\n",
       "    <tr>\n",
       "      <th>500</th>\n",
       "      <td>2600000</td>\n",
       "      <td>1</td>\n",
       "      <td>1989</td>\n",
       "      <td>86.6</td>\n",
       "      <td>0</td>\n",
       "      <td>2007</td>\n",
       "      <td>69.60</td>\n",
       "      <td>2</td>\n",
       "      <td>11467</td>\n",
       "      <td>2</td>\n",
       "      <td>...</td>\n",
       "      <td>405</td>\n",
       "      <td>406</td>\n",
       "      <td>433</td>\n",
       "      <td>350</td>\n",
       "      <td>349</td>\n",
       "      <td>0.3555</td>\n",
       "      <td>0.9688</td>\n",
       "      <td>0.0914</td>\n",
       "      <td>-0.87780</td>\n",
       "      <td>-0.7615</td>\n",
       "    </tr>\n",
       "    <tr>\n",
       "      <th>501</th>\n",
       "      <td>385000</td>\n",
       "      <td>0</td>\n",
       "      <td>1991</td>\n",
       "      <td>89.0</td>\n",
       "      <td>0</td>\n",
       "      <td>2008</td>\n",
       "      <td>94.16</td>\n",
       "      <td>2</td>\n",
       "      <td>3076</td>\n",
       "      <td>2</td>\n",
       "      <td>...</td>\n",
       "      <td>405</td>\n",
       "      <td>406</td>\n",
       "      <td>433</td>\n",
       "      <td>350</td>\n",
       "      <td>349</td>\n",
       "      <td>0.0464</td>\n",
       "      <td>1.3198</td>\n",
       "      <td>-0.4891</td>\n",
       "      <td>-1.11277</td>\n",
       "      <td>-0.2875</td>\n",
       "    </tr>\n",
       "    <tr>\n",
       "      <th>502</th>\n",
       "      <td>240000</td>\n",
       "      <td>1</td>\n",
       "      <td>1990</td>\n",
       "      <td>48.0</td>\n",
       "      <td>224</td>\n",
       "      <td>2008</td>\n",
       "      <td>51.40</td>\n",
       "      <td>284</td>\n",
       "      <td>8195</td>\n",
       "      <td>1</td>\n",
       "      <td>...</td>\n",
       "      <td>405</td>\n",
       "      <td>406</td>\n",
       "      <td>516</td>\n",
       "      <td>350</td>\n",
       "      <td>349</td>\n",
       "      <td>-0.5236</td>\n",
       "      <td>-1.1196</td>\n",
       "      <td>0.1637</td>\n",
       "      <td>0.01920</td>\n",
       "      <td>-1.0872</td>\n",
       "    </tr>\n",
       "    <tr>\n",
       "      <th>503</th>\n",
       "      <td>260000</td>\n",
       "      <td>1</td>\n",
       "      <td>1990</td>\n",
       "      <td>53.3</td>\n",
       "      <td>224</td>\n",
       "      <td>2007</td>\n",
       "      <td>68.40</td>\n",
       "      <td>284</td>\n",
       "      <td>4501</td>\n",
       "      <td>2</td>\n",
       "      <td>...</td>\n",
       "      <td>315</td>\n",
       "      <td>406</td>\n",
       "      <td>433</td>\n",
       "      <td>350</td>\n",
       "      <td>349</td>\n",
       "      <td>-1.0208</td>\n",
       "      <td>0.0459</td>\n",
       "      <td>-0.1437</td>\n",
       "      <td>1.41360</td>\n",
       "      <td>0.2889</td>\n",
       "    </tr>\n",
       "    <tr>\n",
       "      <th>504</th>\n",
       "      <td>460000</td>\n",
       "      <td>1</td>\n",
       "      <td>1990</td>\n",
       "      <td>86.0</td>\n",
       "      <td>119</td>\n",
       "      <td>2008</td>\n",
       "      <td>84.00</td>\n",
       "      <td>249</td>\n",
       "      <td>5284</td>\n",
       "      <td>2</td>\n",
       "      <td>...</td>\n",
       "      <td>405</td>\n",
       "      <td>406</td>\n",
       "      <td>433</td>\n",
       "      <td>350</td>\n",
       "      <td>349</td>\n",
       "      <td>1.1283</td>\n",
       "      <td>1.5928</td>\n",
       "      <td>1.3977</td>\n",
       "      <td>1.00240</td>\n",
       "      <td>-1.1169</td>\n",
       "    </tr>\n",
       "  </tbody>\n",
       "</table>\n",
       "<p>5 rows × 33 columns</p>\n",
       "</div>"
      ],
      "text/plain": [
       "      Salary  Gender   DOB  10percentage  10board  12graduation  12percentage  \\\n",
       "500  2600000       1  1989          86.6        0          2007         69.60   \n",
       "501   385000       0  1991          89.0        0          2008         94.16   \n",
       "502   240000       1  1990          48.0      224          2008         51.40   \n",
       "503   260000       1  1990          53.3      224          2007         68.40   \n",
       "504   460000       1  1990          86.0      119          2008         84.00   \n",
       "\n",
       "     12board  CollegeID  CollegeTier          ...            ComputerScience  \\\n",
       "500        2      11467            2          ...                        405   \n",
       "501        2       3076            2          ...                        405   \n",
       "502      284       8195            1          ...                        405   \n",
       "503      284       4501            2          ...                        315   \n",
       "504      249       5284            2          ...                        405   \n",
       "\n",
       "     MechanicalEngg  ElectricalEngg  TelecomEngg  CivilEngg  \\\n",
       "500             406             433          350        349   \n",
       "501             406             433          350        349   \n",
       "502             406             516          350        349   \n",
       "503             406             433          350        349   \n",
       "504             406             433          350        349   \n",
       "\n",
       "     conscientiousness  agreeableness  extraversion  nueroticism  \\\n",
       "500             0.3555         0.9688        0.0914     -0.87780   \n",
       "501             0.0464         1.3198       -0.4891     -1.11277   \n",
       "502            -0.5236        -1.1196        0.1637      0.01920   \n",
       "503            -1.0208         0.0459       -0.1437      1.41360   \n",
       "504             1.1283         1.5928        1.3977      1.00240   \n",
       "\n",
       "     openess_to_experience  \n",
       "500                -0.7615  \n",
       "501                -0.2875  \n",
       "502                -1.0872  \n",
       "503                 0.2889  \n",
       "504                -1.1169  \n",
       "\n",
       "[5 rows x 33 columns]"
      ]
     },
     "execution_count": 13,
     "metadata": {},
     "output_type": "execute_result"
    }
   ],
   "source": [
    "test = train.head(500)\n",
    "train = train.tail(len(train) - 500)\n",
    "train.head()"
   ]
  },
  {
   "cell_type": "code",
   "execution_count": 14,
   "metadata": {},
   "outputs": [],
   "source": [
    "target = train.Salary.values\n",
    "test_target = test.Salary.values\n",
    "\n",
    "train = train.drop(['Salary'], axis =1) \n",
    "test = test.drop(['Salary'], axis =1) \n",
    "\n",
    "\n"
   ]
  },
  {
   "cell_type": "code",
   "execution_count": 15,
   "metadata": {
    "collapsed": true
   },
   "outputs": [],
   "source": [
    "gnb = GaussianNB()\n",
    "y_pred = gnb.fit(train, target).predict(test)"
   ]
  },
  {
   "cell_type": "code",
   "execution_count": 16,
   "metadata": {},
   "outputs": [
    {
     "data": {
      "text/plain": [
       "589170.0942851733"
      ]
     },
     "execution_count": 16,
     "metadata": {},
     "output_type": "execute_result"
    }
   ],
   "source": [
    "ans = math.sqrt(mean_squared_error(test_target, y_pred))\n",
    "ans"
   ]
  },
  {
   "cell_type": "code",
   "execution_count": 19,
   "metadata": {},
   "outputs": [
    {
     "data": {
      "text/plain": [
       "{'priors': None}"
      ]
     },
     "execution_count": 19,
     "metadata": {},
     "output_type": "execute_result"
    }
   ],
   "source": [
    "gnb.get_params()"
   ]
  },
  {
   "cell_type": "code",
   "execution_count": 21,
   "metadata": {},
   "outputs": [
    {
     "data": {
      "text/plain": [
       "0.073470554602630078"
      ]
     },
     "execution_count": 21,
     "metadata": {},
     "output_type": "execute_result"
    }
   ],
   "source": [
    "gnb.score(train,target)"
   ]
  },
  {
   "cell_type": "code",
   "execution_count": null,
   "metadata": {
    "collapsed": true
   },
   "outputs": [],
   "source": []
  }
 ],
 "metadata": {
  "kernelspec": {
   "display_name": "Python 3",
   "language": "python",
   "name": "python3"
  },
  "language_info": {
   "codemirror_mode": {
    "name": "ipython",
    "version": 3
   },
   "file_extension": ".py",
   "mimetype": "text/x-python",
   "name": "python",
   "nbconvert_exporter": "python",
   "pygments_lexer": "ipython3",
   "version": "3.7.4"
  }
 },
 "nbformat": 4,
 "nbformat_minor": 1
}
