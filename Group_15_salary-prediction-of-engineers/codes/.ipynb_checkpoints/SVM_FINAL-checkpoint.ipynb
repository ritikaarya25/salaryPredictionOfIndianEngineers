{
 "cells": [
  {
   "cell_type": "code",
   "execution_count": 2,
   "metadata": {},
   "outputs": [
    {
     "data": {
      "text/plain": [
       "SVC(C=1.0, cache_size=200, class_weight=None, coef0=0.0,\n",
       "  decision_function_shape=None, degree=3, gamma='auto', kernel='rbf',\n",
       "  max_iter=-1, probability=False, random_state=None, shrinking=True,\n",
       "  tol=0.001, verbose=False)"
      ]
     },
     "execution_count": 2,
     "metadata": {},
     "output_type": "execute_result"
    }
   ],
   "source": [
    "import pandas as pd\n",
    "import math\n",
    "from sklearn.metrics import mean_absolute_error, mean_squared_error\n",
    "from sklearn.linear_model import LinearRegression\n",
    "from sklearn import preprocessing\n",
    "import numpy as np\n",
    "from sklearn.preprocessing import MinMaxScaler\n",
    "import numpy as np\n",
    "import random\n",
    "from sklearn import linear_model, svm\n",
    "import datetime\n",
    "import statsmodels.api as sm\n",
    "from sklearn.naive_bayes import GaussianNB\n",
    "\n",
    "train = pd.read_excel('train.xlsx')\n",
    "\n",
    "train = train.drop(['DOL', 'DOJ', 'Designation', 'TestOrTrain', 'ID','JobCity'], axis =1) \n",
    "\n",
    "\n",
    "\n",
    "\n",
    "text_columns = []\n",
    "for f in train.columns:\n",
    "    if train[f].dtype=='object':\n",
    "        text_columns.append(f)            \n",
    "        lbl = preprocessing.LabelEncoder()\n",
    "        lbl.fit(list(train[f].values))\n",
    "        train[f] = lbl.transform(list(train[f].values))\n",
    "        \n",
    "test = train.head(500)\n",
    "train = train.tail(len(train) - 500)\n",
    "\n",
    "target = train.Salary.values\n",
    "test_target = test.Salary.values\n",
    "\n",
    "train = train.drop(['Salary'], axis =1) \n",
    "test = test.drop(['Salary'], axis =1) \n",
    "\n",
    "\n",
    "clf = svm.SVC()\n",
    "clf.fit(train, target) "
   ]
  },
  {
   "cell_type": "code",
   "execution_count": null,
   "metadata": {},
   "outputs": [],
   "source": [
    "def yearReturn(x):\n",
    "    return x.year\n",
    "\n",
    "def mean1(col):\n",
    "    sm = 0\n",
    "    count = 0;\n",
    "\n",
    "    for x in col:\n",
    "\tif x != -1:\n",
    "\t\tsm = sm + x;\n",
    "\t\tcount = count + 1;\n",
    "\n",
    "    mn = sm / count\n",
    "    return mn;\n",
    "\n",
    "\n",
    "def transform(col, val):\n",
    "    new = []\n",
    "\n",
    "    for x in col:\n",
    "\tif x == -1:\n",
    "\t\tnew.append(val);\t\n",
    "\telse:\n",
    "\t\tnew.append(x);\t\n",
    "\t\n",
    "    return new;\n"
   ]
  },
  {
   "cell_type": "code",
   "execution_count": null,
   "metadata": {},
   "outputs": [],
   "source": [
    "val = mean1(train.ElectronicsAndSemicon)\n",
    "train.ElectronicsAndSemicon = transform(train.ElectronicsAndSemicon, val);\n",
    "\n",
    "val = mean1(train.ComputerProgramming)\t    \n",
    "train.ComputerProgramming = transform(train.ComputerProgramming, val);\n",
    "\n",
    "val = mean1(train.ComputerScience)\t    \n",
    "train.ComputerScience = transform(train.ComputerScience, val);\n",
    "\n",
    "val = mean1(train.MechanicalEngg)\t    \n",
    "train.MechanicalEngg = transform(train.MechanicalEngg, val);\n",
    "\n",
    "val = mean1(train.ElectricalEngg)\n",
    "train.ElectricalEngg = transform(train.ElectricalEngg, val);\n",
    "\n",
    "val = mean1(train.TelecomEngg)\n",
    "train.TelecomEngg = transform(train.TelecomEngg, val);\n",
    "\n",
    "val = mean1(train.CivilEngg)\n",
    "train.CivilEngg = transform(train.CivilEngg, val);\n",
    "\n",
    "val = mean1(train.Domain)    \n",
    "train.Domain = transform(train.Domain, val);\n",
    "\n",
    "train['DOB'] = train.DOB.apply(yearReturn)"
   ]
  },
  {
   "cell_type": "code",
   "execution_count": 3,
   "metadata": {},
   "outputs": [
    {
     "data": {
      "text/plain": [
       "180564.11603638192"
      ]
     },
     "execution_count": 3,
     "metadata": {},
     "output_type": "execute_result"
    }
   ],
   "source": [
    "y_pred = clf.predict(test)\n",
    "\n",
    "ans = math.sqrt(mean_squared_error(test_target, y_pred))\n",
    "ans"
   ]
  },
  {
   "cell_type": "code",
   "execution_count": null,
   "metadata": {
    "collapsed": true
   },
   "outputs": [],
   "source": []
  }
 ],
 "metadata": {
  "kernelspec": {
   "display_name": "Python 3",
   "language": "python",
   "name": "python3"
  },
  "language_info": {
   "codemirror_mode": {
    "name": "ipython",
    "version": 3
   },
   "file_extension": ".py",
   "mimetype": "text/x-python",
   "name": "python",
   "nbconvert_exporter": "python",
   "pygments_lexer": "ipython3",
   "version": "3.7.4"
  }
 },
 "nbformat": 4,
 "nbformat_minor": 1
}
